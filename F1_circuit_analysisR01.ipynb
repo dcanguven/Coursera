{
 "cells": [
  {
   "cell_type": "markdown",
   "id": "c7999b10-4322-483d-b317-6139b9319b5c",
   "metadata": {},
   "source": [
    "<br>\n",
    "<br>\n",
    "<center>\n",
    "  <img src=\"https://upload.wikimedia.org/wikipedia/commons/thumb/3/33/F1.svg/320px-F1.svg.png\" alt=\"image.png\">\n",
    "  <h1>IS THE GRID POSITION ENOUGH FOR A PODIUM FINISH IN FORMULA 1?</h1>\n",
    "</center>\n",
    "\n",
    "<br>\n",
    "<br>"
   ]
  },
  {
   "cell_type": "markdown",
   "id": "3c255848-1899-45cb-b70d-95a2d5040c66",
   "metadata": {},
   "source": [
    "## MAIN REQUIREMENTS FROM COURSERA\n",
    "\n",
    "Sections required in your report:\n",
    "\n",
    "* Main objective of the analysis that specifies whether your model will be focused on prediction or interpretation and the benefits that your analysis provides to the business or stakeholders of this data.\n",
    "\n",
    "* Brief description of the data set you chose, a summary of its attributes, and an outline of what you are trying to accomplish with this analysis.\n",
    "\n",
    "* Brief summary of data exploration and actions taken for data cleaning and feature engineering.\n",
    "\n",
    "* Summary of training at least three different classifier models, preferably of different nature in explainability and predictability. For example, you can start with a simple logistic regression as a baseline, adding other models or ensemble models. Preferably, all your models use the same training and test splits, or the same cross-validation method.\n",
    "\n",
    "* A paragraph explaining which of your classifier models you recommend as a final model that best fits your needs in terms of accuracy and explainability.\n",
    "\n",
    "* Summary Key Findings and Insights, which walks your reader through the main drivers of your model and insights from your data derived from your classifier model.\n",
    "\n",
    "* Suggestions for next steps in analyzing this data, which may include suggesting revisiting this model after adding specific data features that may help you achieve a better explanation or a better prediction."
   ]
  },
  {
   "cell_type": "markdown",
   "id": "14d46388-5cee-4a5c-b86a-a1d4918a07c2",
   "metadata": {},
   "source": [
    "## DESCRIPTION AND TARGET\n",
    "\n",
    "Main objective is to provide a brief interpretation on following question:\n",
    "\n",
    "\n",
    "“In Formula 1, on which circuits does starting in the top 3 affect the likelihood of a podium finish? \"\n",
    "\n",
    "Results will be given as a sorted list of circuits along with the probabilities of finishing in the top 3.\n",
    " \n",
    "Two datasets have been used: “results.csv” and “races.csv”. These datasets have been taken from kaggle. \n",
    "\n",
    "Columns to be analyzed in these datasets and their descriptions:\n",
    "\n",
    "<br>\n",
    "\n",
    "| COLUMN NAME | DATASET      | DESCRIPTION                                                       |\n",
    "|-------------|--------------|-------------------------------------------------------------------|\n",
    "| raceId      | results.csv  | Every race in the dataset has a unique number.                    |\n",
    "| grid        | results.csv  | Starting position of a driver.                                    |\n",
    "| position    | results.csv  | Finishing position of a driver.                                   |\n",
    "| raceId      | races.csv    | This column is used in merging two datasets.                      |\n",
    "| year        | races.csv    | Date of a Formula 1 race in years.                                |\n",
    "| circuitId   | races.csv    | Every circuit in the Formula 1 calendar has a unique number.      |\n",
    "| name        | races.csv    | Name of a circuit.                                                \n"
   ]
  },
  {
   "cell_type": "markdown",
   "id": "64027a82-20d9-4c0f-843e-e2eecb135d58",
   "metadata": {},
   "source": [
    "## DATA CLEANING AND DATA EXPLORATION"
   ]
  },
  {
   "cell_type": "markdown",
   "id": "1652f8b2-0d43-43d7-b590-843c13986048",
   "metadata": {},
   "source": [
    "### Import libraries"
   ]
  },
  {
   "cell_type": "code",
   "execution_count": 1,
   "id": "11cd16c9-781f-45ad-8d18-1cf016ca6de9",
   "metadata": {},
   "outputs": [],
   "source": [
    "import numpy as np\n",
    "import pandas as pd\n",
    "import matplotlib.pyplot as plt"
   ]
  },
  {
   "cell_type": "markdown",
   "id": "33b74040-0ad0-40b1-b3fb-810d5d70a798",
   "metadata": {},
   "source": [
    "### Import data"
   ]
  },
  {
   "cell_type": "code",
   "execution_count": 2,
   "id": "a71acf96-840a-4c63-814e-20c2d4840e1d",
   "metadata": {},
   "outputs": [
    {
     "data": {
      "text/plain": [
       "Index(['resultId', 'raceId', 'driverId', 'constructorId', 'number', 'grid',\n",
       "       'position', 'positionText', 'positionOrder', 'points', 'laps', 'time',\n",
       "       'milliseconds', 'fastestLap', 'rank', 'fastestLapTime',\n",
       "       'fastestLapSpeed', 'statusId'],\n",
       "      dtype='object')"
      ]
     },
     "execution_count": 2,
     "metadata": {},
     "output_type": "execute_result"
    }
   ],
   "source": [
    "df_results = pd.read_csv(\"results.csv\")\n",
    "df_results.columns"
   ]
  },
  {
   "cell_type": "code",
   "execution_count": 3,
   "id": "477c89ba-58ae-4ce6-99a9-48488346585a",
   "metadata": {},
   "outputs": [
    {
     "data": {
      "text/plain": [
       "Index(['raceId', 'year', 'round', 'circuitId', 'name', 'date', 'time', 'url',\n",
       "       'fp1_date', 'fp1_time', 'fp2_date', 'fp2_time', 'fp3_date', 'fp3_time',\n",
       "       'quali_date', 'quali_time', 'sprint_date', 'sprint_time'],\n",
       "      dtype='object')"
      ]
     },
     "execution_count": 3,
     "metadata": {},
     "output_type": "execute_result"
    }
   ],
   "source": [
    "df_races = pd.read_csv(\"races.csv\")\n",
    "df_races.columns"
   ]
  },
  {
   "cell_type": "markdown",
   "id": "0082f3d6-9372-4792-a6ef-15b564bfed76",
   "metadata": {},
   "source": [
    "### Merge and clean the data"
   ]
  },
  {
   "cell_type": "code",
   "execution_count": 4,
   "id": "c32805bc-e3aa-4645-a1c8-8fcb4f153cd1",
   "metadata": {},
   "outputs": [],
   "source": [
    "# Use only necessary columns for modelling\n",
    "\n",
    "df_results = df_results[[\"raceId\", \"grid\", \"position\"]]\n",
    "df_races = df_races[[\"raceId\", \"year\", \"circuitId\", \"name\"]]"
   ]
  },
  {
   "cell_type": "code",
   "execution_count": 5,
   "id": "7947f079-c657-4bfb-afba-52e2d8462bf6",
   "metadata": {},
   "outputs": [
    {
     "data": {
      "text/html": [
       "<div>\n",
       "<style scoped>\n",
       "    .dataframe tbody tr th:only-of-type {\n",
       "        vertical-align: middle;\n",
       "    }\n",
       "\n",
       "    .dataframe tbody tr th {\n",
       "        vertical-align: top;\n",
       "    }\n",
       "\n",
       "    .dataframe thead th {\n",
       "        text-align: right;\n",
       "    }\n",
       "</style>\n",
       "<table border=\"1\" class=\"dataframe\">\n",
       "  <thead>\n",
       "    <tr style=\"text-align: right;\">\n",
       "      <th></th>\n",
       "      <th>raceId</th>\n",
       "      <th>grid</th>\n",
       "      <th>position</th>\n",
       "      <th>year</th>\n",
       "      <th>circuitId</th>\n",
       "      <th>name</th>\n",
       "    </tr>\n",
       "  </thead>\n",
       "  <tbody>\n",
       "    <tr>\n",
       "      <th>0</th>\n",
       "      <td>18</td>\n",
       "      <td>1</td>\n",
       "      <td>1</td>\n",
       "      <td>2008</td>\n",
       "      <td>1</td>\n",
       "      <td>Australian Grand Prix</td>\n",
       "    </tr>\n",
       "    <tr>\n",
       "      <th>1</th>\n",
       "      <td>18</td>\n",
       "      <td>5</td>\n",
       "      <td>2</td>\n",
       "      <td>2008</td>\n",
       "      <td>1</td>\n",
       "      <td>Australian Grand Prix</td>\n",
       "    </tr>\n",
       "    <tr>\n",
       "      <th>2</th>\n",
       "      <td>18</td>\n",
       "      <td>7</td>\n",
       "      <td>3</td>\n",
       "      <td>2008</td>\n",
       "      <td>1</td>\n",
       "      <td>Australian Grand Prix</td>\n",
       "    </tr>\n",
       "    <tr>\n",
       "      <th>3</th>\n",
       "      <td>18</td>\n",
       "      <td>11</td>\n",
       "      <td>4</td>\n",
       "      <td>2008</td>\n",
       "      <td>1</td>\n",
       "      <td>Australian Grand Prix</td>\n",
       "    </tr>\n",
       "    <tr>\n",
       "      <th>4</th>\n",
       "      <td>18</td>\n",
       "      <td>3</td>\n",
       "      <td>5</td>\n",
       "      <td>2008</td>\n",
       "      <td>1</td>\n",
       "      <td>Australian Grand Prix</td>\n",
       "    </tr>\n",
       "  </tbody>\n",
       "</table>\n",
       "</div>"
      ],
      "text/plain": [
       "   raceId  grid position  year  circuitId                   name\n",
       "0      18     1        1  2008          1  Australian Grand Prix\n",
       "1      18     5        2  2008          1  Australian Grand Prix\n",
       "2      18     7        3  2008          1  Australian Grand Prix\n",
       "3      18    11        4  2008          1  Australian Grand Prix\n",
       "4      18     3        5  2008          1  Australian Grand Prix"
      ]
     },
     "execution_count": 5,
     "metadata": {},
     "output_type": "execute_result"
    }
   ],
   "source": [
    "df = df_results.merge(df_races, on=\"raceId\", how = \"inner\")\n",
    "df.head()"
   ]
  },
  {
   "cell_type": "code",
   "execution_count": 6,
   "id": "7443059b-8ff5-45c6-acf7-9fc3fea3e461",
   "metadata": {},
   "outputs": [
    {
     "data": {
      "text/html": [
       "<div>\n",
       "<style scoped>\n",
       "    .dataframe tbody tr th:only-of-type {\n",
       "        vertical-align: middle;\n",
       "    }\n",
       "\n",
       "    .dataframe tbody tr th {\n",
       "        vertical-align: top;\n",
       "    }\n",
       "\n",
       "    .dataframe thead th {\n",
       "        text-align: right;\n",
       "    }\n",
       "</style>\n",
       "<table border=\"1\" class=\"dataframe\">\n",
       "  <thead>\n",
       "    <tr style=\"text-align: right;\">\n",
       "      <th></th>\n",
       "      <th>raceId</th>\n",
       "      <th>grid</th>\n",
       "      <th>position</th>\n",
       "      <th>year</th>\n",
       "      <th>circuitId</th>\n",
       "      <th>name</th>\n",
       "      <th>start</th>\n",
       "      <th>finish</th>\n",
       "    </tr>\n",
       "  </thead>\n",
       "  <tbody>\n",
       "    <tr>\n",
       "      <th>0</th>\n",
       "      <td>18</td>\n",
       "      <td>1</td>\n",
       "      <td>1</td>\n",
       "      <td>2008</td>\n",
       "      <td>1</td>\n",
       "      <td>Australian Grand Prix</td>\n",
       "      <td>Yes</td>\n",
       "      <td>Yes</td>\n",
       "    </tr>\n",
       "    <tr>\n",
       "      <th>1</th>\n",
       "      <td>18</td>\n",
       "      <td>5</td>\n",
       "      <td>2</td>\n",
       "      <td>2008</td>\n",
       "      <td>1</td>\n",
       "      <td>Australian Grand Prix</td>\n",
       "      <td>No</td>\n",
       "      <td>Yes</td>\n",
       "    </tr>\n",
       "    <tr>\n",
       "      <th>2</th>\n",
       "      <td>18</td>\n",
       "      <td>7</td>\n",
       "      <td>3</td>\n",
       "      <td>2008</td>\n",
       "      <td>1</td>\n",
       "      <td>Australian Grand Prix</td>\n",
       "      <td>No</td>\n",
       "      <td>Yes</td>\n",
       "    </tr>\n",
       "    <tr>\n",
       "      <th>3</th>\n",
       "      <td>18</td>\n",
       "      <td>11</td>\n",
       "      <td>4</td>\n",
       "      <td>2008</td>\n",
       "      <td>1</td>\n",
       "      <td>Australian Grand Prix</td>\n",
       "      <td>No</td>\n",
       "      <td>No</td>\n",
       "    </tr>\n",
       "    <tr>\n",
       "      <th>4</th>\n",
       "      <td>18</td>\n",
       "      <td>3</td>\n",
       "      <td>5</td>\n",
       "      <td>2008</td>\n",
       "      <td>1</td>\n",
       "      <td>Australian Grand Prix</td>\n",
       "      <td>Yes</td>\n",
       "      <td>No</td>\n",
       "    </tr>\n",
       "  </tbody>\n",
       "</table>\n",
       "</div>"
      ],
      "text/plain": [
       "   raceId  grid position  year  circuitId                   name start finish\n",
       "0      18     1        1  2008          1  Australian Grand Prix   Yes    Yes\n",
       "1      18     5        2  2008          1  Australian Grand Prix    No    Yes\n",
       "2      18     7        3  2008          1  Australian Grand Prix    No    Yes\n",
       "3      18    11        4  2008          1  Australian Grand Prix    No     No\n",
       "4      18     3        5  2008          1  Australian Grand Prix   Yes     No"
      ]
     },
     "execution_count": 6,
     "metadata": {},
     "output_type": "execute_result"
    }
   ],
   "source": [
    "# New columns that labels starting and finishing in podium\n",
    "# Starting case: starting in top 3\n",
    "# Finishing case: finishing in top 3\n",
    "\n",
    "def top_three(track_position):\n",
    "    return 'Yes' if track_position in [1, 2, 3] or track_position in [\"1\",\"2\",\"3\"] else 'No'\n",
    "\n",
    "df['start'] = df['grid'].apply(top_three)\n",
    "df['finish'] = df['position'].apply(top_three)\n",
    "df.head()"
   ]
  },
  {
   "cell_type": "code",
   "execution_count": 7,
   "id": "56b08a27-f5dd-4e28-99a7-2efa0977a9cc",
   "metadata": {},
   "outputs": [],
   "source": [
    "# Drop \"position\" columns since \"start\", \"grid\" and \"finish\" to be used in modelling\n",
    "\n",
    "df = df.drop(columns=[\"position\"])"
   ]
  },
  {
   "cell_type": "code",
   "execution_count": 8,
   "id": "6e269c58-5c8a-4e27-aa95-7899141acf51",
   "metadata": {},
   "outputs": [
    {
     "data": {
      "text/html": [
       "<div>\n",
       "<style scoped>\n",
       "    .dataframe tbody tr th:only-of-type {\n",
       "        vertical-align: middle;\n",
       "    }\n",
       "\n",
       "    .dataframe tbody tr th {\n",
       "        vertical-align: top;\n",
       "    }\n",
       "\n",
       "    .dataframe thead th {\n",
       "        text-align: right;\n",
       "    }\n",
       "</style>\n",
       "<table border=\"1\" class=\"dataframe\">\n",
       "  <thead>\n",
       "    <tr style=\"text-align: right;\">\n",
       "      <th></th>\n",
       "      <th>raceId</th>\n",
       "      <th>grid</th>\n",
       "      <th>year</th>\n",
       "      <th>circuitId</th>\n",
       "      <th>name</th>\n",
       "      <th>start</th>\n",
       "      <th>finish</th>\n",
       "    </tr>\n",
       "  </thead>\n",
       "  <tbody>\n",
       "    <tr>\n",
       "      <th>0</th>\n",
       "      <td>18</td>\n",
       "      <td>1</td>\n",
       "      <td>2008</td>\n",
       "      <td>1</td>\n",
       "      <td>Australian Grand Prix</td>\n",
       "      <td>Yes</td>\n",
       "      <td>Yes</td>\n",
       "    </tr>\n",
       "    <tr>\n",
       "      <th>1</th>\n",
       "      <td>18</td>\n",
       "      <td>5</td>\n",
       "      <td>2008</td>\n",
       "      <td>1</td>\n",
       "      <td>Australian Grand Prix</td>\n",
       "      <td>No</td>\n",
       "      <td>Yes</td>\n",
       "    </tr>\n",
       "    <tr>\n",
       "      <th>2</th>\n",
       "      <td>18</td>\n",
       "      <td>7</td>\n",
       "      <td>2008</td>\n",
       "      <td>1</td>\n",
       "      <td>Australian Grand Prix</td>\n",
       "      <td>No</td>\n",
       "      <td>Yes</td>\n",
       "    </tr>\n",
       "    <tr>\n",
       "      <th>3</th>\n",
       "      <td>18</td>\n",
       "      <td>11</td>\n",
       "      <td>2008</td>\n",
       "      <td>1</td>\n",
       "      <td>Australian Grand Prix</td>\n",
       "      <td>No</td>\n",
       "      <td>No</td>\n",
       "    </tr>\n",
       "    <tr>\n",
       "      <th>4</th>\n",
       "      <td>18</td>\n",
       "      <td>3</td>\n",
       "      <td>2008</td>\n",
       "      <td>1</td>\n",
       "      <td>Australian Grand Prix</td>\n",
       "      <td>Yes</td>\n",
       "      <td>No</td>\n",
       "    </tr>\n",
       "  </tbody>\n",
       "</table>\n",
       "</div>"
      ],
      "text/plain": [
       "   raceId  grid  year  circuitId                   name start finish\n",
       "0      18     1  2008          1  Australian Grand Prix   Yes    Yes\n",
       "1      18     5  2008          1  Australian Grand Prix    No    Yes\n",
       "2      18     7  2008          1  Australian Grand Prix    No    Yes\n",
       "3      18    11  2008          1  Australian Grand Prix    No     No\n",
       "4      18     3  2008          1  Australian Grand Prix   Yes     No"
      ]
     },
     "execution_count": 8,
     "metadata": {},
     "output_type": "execute_result"
    }
   ],
   "source": [
    "df.head()"
   ]
  },
  {
   "cell_type": "code",
   "execution_count": 9,
   "id": "12508fc4-b7e4-4c41-8132-720f15f045d7",
   "metadata": {},
   "outputs": [
    {
     "data": {
      "text/plain": [
       "0"
      ]
     },
     "execution_count": 9,
     "metadata": {},
     "output_type": "execute_result"
    }
   ],
   "source": [
    "# Check NA values\n",
    "df.isna().sum().sum()"
   ]
  },
  {
   "cell_type": "code",
   "execution_count": 10,
   "id": "43ef8fce-34c0-41d9-8984-546630d63822",
   "metadata": {},
   "outputs": [],
   "source": [
    "# Review only latest tracks in dataset- 2021\n",
    "# We don't want old circuits being inside of the model and mislead results"
   ]
  },
  {
   "cell_type": "code",
   "execution_count": 11,
   "id": "5d61b40b-af02-4881-8432-b61f39851dbf",
   "metadata": {},
   "outputs": [
    {
     "data": {
      "text/plain": [
       "name\n",
       "Abu Dhabi Grand Prix         24.0\n",
       "Austrian Grand Prix          70.0\n",
       "Azerbaijan Grand Prix        73.0\n",
       "Bahrain Grand Prix            3.0\n",
       "Belgian Grand Prix           13.0\n",
       "British Grand Prix            9.0\n",
       "Dutch Grand Prix             39.0\n",
       "Emilia Romagna Grand Prix    21.0\n",
       "French Grand Prix            34.0\n",
       "Hungarian Grand Prix         11.0\n",
       "Italian Grand Prix           14.0\n",
       "Mexico City Grand Prix       32.0\n",
       "Monaco Grand Prix             6.0\n",
       "Portuguese Grand Prix        75.0\n",
       "Qatar Grand Prix             78.0\n",
       "Russian Grand Prix           71.0\n",
       "Saudi Arabian Grand Prix     77.0\n",
       "Spanish Grand Prix            4.0\n",
       "Styrian Grand Prix           70.0\n",
       "São Paulo Grand Prix         18.0\n",
       "Turkish Grand Prix            5.0\n",
       "United States Grand Prix     69.0\n",
       "Name: circuitId, dtype: float64"
      ]
     },
     "execution_count": 11,
     "metadata": {},
     "output_type": "execute_result"
    }
   ],
   "source": [
    "# Filter year 2021\n",
    "# Then filter curcuits of 2021 in main data\n",
    "\n",
    "circuit_df = df.query(\"year == 2021\")\n",
    "circuits_of_2021 = circuit_df.circuitId.unique().tolist()\n",
    "df = df.query(\"circuitId in @circuits_of_2021\")\n",
    "circuit_df.groupby([\"name\"])[\"circuitId\"].mean()"
   ]
  },
  {
   "cell_type": "markdown",
   "id": "7f389881-6275-4505-aacd-31f14aa22773",
   "metadata": {},
   "source": [
    "## GENERATE 3 CLASSIFICATION MODELS"
   ]
  },
  {
   "cell_type": "markdown",
   "id": "bba6ebe4-4d7b-4797-89fd-8fec5af4e28c",
   "metadata": {},
   "source": [
    "### Import libraries"
   ]
  },
  {
   "cell_type": "code",
   "execution_count": 12,
   "id": "dcfa109f-3b49-4ecb-8a0d-9a2f37b70bb9",
   "metadata": {},
   "outputs": [],
   "source": [
    "from sklearn.model_selection import train_test_split, GridSearchCV\n",
    "from sklearn.preprocessing import LabelEncoder\n",
    "from sklearn.pipeline import Pipeline\n",
    "from sklearn.linear_model import LogisticRegression\n",
    "from sklearn.tree import DecisionTreeClassifier\n",
    "from sklearn.ensemble import RandomForestClassifier\n",
    "from sklearn.metrics import accuracy_score, confusion_matrix, ConfusionMatrixDisplay"
   ]
  },
  {
   "cell_type": "markdown",
   "id": "ab68b68c-182e-48b8-8b38-f0799aa1cf9c",
   "metadata": {},
   "source": [
    "### Start modelling"
   ]
  },
  {
   "cell_type": "code",
   "execution_count": 13,
   "id": "99bffc52-b712-401e-8fb4-ecbb72a2d2f6",
   "metadata": {},
   "outputs": [],
   "source": [
    "# Transform caterogical data into numerical\n",
    "\n",
    "label_encoder = LabelEncoder()\n",
    "df['start'] = label_encoder.fit_transform(df['start'])\n",
    "df['finish'] = label_encoder.fit_transform(df['finish'])"
   ]
  },
  {
   "cell_type": "code",
   "execution_count": 14,
   "id": "b5b58437-9d9c-471e-b8aa-b173d32e0c38",
   "metadata": {},
   "outputs": [],
   "source": [
    "# Define features and target variable\n",
    "\n",
    "X = df[['circuitId', \"grid\", 'start']]\n",
    "y = df['finish'] "
   ]
  },
  {
   "cell_type": "code",
   "execution_count": 15,
   "id": "a36c2eec-06d7-4de5-8093-1b5ae4f9a1c2",
   "metadata": {},
   "outputs": [],
   "source": [
    "# Split data\n",
    "\n",
    "X_train, X_test, y_train, y_test = train_test_split(X, y, test_size=0.2, random_state=1)"
   ]
  },
  {
   "cell_type": "markdown",
   "id": "fc4dc2f5-7e47-4950-832b-de58f88f6006",
   "metadata": {},
   "source": [
    "### Pipeline Approach for 3 models with Hypertuning"
   ]
  },
  {
   "cell_type": "code",
   "execution_count": 16,
   "id": "b192fd26-9e3a-4f10-87df-24418b2ac3d5",
   "metadata": {},
   "outputs": [],
   "source": [
    "# Pipelines for Logistic Regression, Decision Tree and Random Forest Pipeline\n",
    "\n",
    "logreg_pipeline = Pipeline([(\"logreg\", LogisticRegression())])\n",
    "dt_pipeline = Pipeline([(\"dt\", DecisionTreeClassifier())])\n",
    "rf_pipeline = Pipeline([(\"rf\", RandomForestClassifier())])\n"
   ]
  },
  {
   "cell_type": "code",
   "execution_count": 17,
   "id": "1d603811-e6cb-4a48-b002-1a37bbad9176",
   "metadata": {},
   "outputs": [],
   "source": [
    "# Parameters:\n",
    "\n",
    "# Logistic Regression parameters:\n",
    "logreg_param_grid = {\n",
    "    'logreg__C': [0.1, 1.0, 10.0, 100],\n",
    "    'logreg__solver': ['liblinear', 'lbfgs'],\n",
    "    'logreg__max_iter': [100,1000]\n",
    "}\n",
    "\n",
    "# Decision Tree Parameters:\n",
    "dt_param_grid = {\n",
    "    'dt__max_depth': [None, 5, 10, 20],\n",
    "    'dt__min_samples_split': [2, 5, 10],\n",
    "    'dt__min_samples_leaf': [1, 2, 4]\n",
    "}\n",
    "\n",
    "# Random Forest Parameters:\n",
    "rf_param_grid = {\n",
    "    'rf__n_estimators': [50, 100, 200],\n",
    "    'rf__max_depth': [None, 5, 10, 20],\n",
    "}"
   ]
  },
  {
   "cell_type": "code",
   "execution_count": 18,
   "id": "c4f5c396-96ba-4c36-a447-285c3088f474",
   "metadata": {},
   "outputs": [
    {
     "name": "stdout",
     "output_type": "stream",
     "text": [
      "Running GridSearchCV for LogisticRegression\n",
      "Best parameters of LogisticRegression: {'logreg__C': 0.1, 'logreg__max_iter': 100, 'logreg__solver': 'liblinear'}\n",
      "Running GridSearchCV for DecisionTree\n",
      "Best parameters of DecisionTree: {'dt__max_depth': 5, 'dt__min_samples_leaf': 4, 'dt__min_samples_split': 2}\n",
      "Running GridSearchCV for RandomForest\n",
      "Best parameters of RandomForest: {'rf__max_depth': 5, 'rf__n_estimators': 50}\n",
      "--- Completed ---\n"
     ]
    }
   ],
   "source": [
    "# List of pipelines and parameter grids\n",
    "pipelines = [\n",
    "    ('LogisticRegression', logreg_pipeline, logreg_param_grid),\n",
    "    ('DecisionTree', dt_pipeline, dt_param_grid),\n",
    "    ('RandomForest', rf_pipeline, rf_param_grid)\n",
    "]\n",
    "\n",
    "# List to store results\n",
    "results = []\n",
    "\n",
    "# Perform Grid Search for each pipeline\n",
    "for name, pipeline, param_grid in [('LogisticRegression', logreg_pipeline, logreg_param_grid),\n",
    "                                  ('DecisionTree', dt_pipeline, dt_param_grid),\n",
    "                                  ('RandomForest', rf_pipeline, rf_param_grid)]:\n",
    "    print(f\"Running GridSearchCV for {name}\")\n",
    "    grid_search = GridSearchCV(pipeline, param_grid, cv=5, scoring='accuracy')\n",
    "    grid_search.fit(X_train, y_train)\n",
    "    \n",
    "    # Record results\n",
    "    best_params = grid_search.best_params_\n",
    "    best_score = grid_search.best_score_\n",
    "    print(f\"Best parameters of {name}: {best_params}\")\n",
    "    y_pred = grid_search.predict(X_test)\n",
    "    accuracy = accuracy_score(y_test, y_pred)\n",
    "    \n",
    "    # Append results to list\n",
    "    results.append({\n",
    "        'Model': name,\n",
    "        'Accuracy': accuracy.round(3)\n",
    "    })\n",
    "\n",
    "# Convert results list to DataFrame\n",
    "results_df = pd.DataFrame(results)\n",
    "print(\"--- Completed ---\")"
   ]
  },
  {
   "cell_type": "code",
   "execution_count": 19,
   "id": "3765c7b4-f23d-40bb-a984-cc29bcb6de63",
   "metadata": {},
   "outputs": [
    {
     "data": {
      "text/html": [
       "<div>\n",
       "<style scoped>\n",
       "    .dataframe tbody tr th:only-of-type {\n",
       "        vertical-align: middle;\n",
       "    }\n",
       "\n",
       "    .dataframe tbody tr th {\n",
       "        vertical-align: top;\n",
       "    }\n",
       "\n",
       "    .dataframe thead th {\n",
       "        text-align: right;\n",
       "    }\n",
       "</style>\n",
       "<table border=\"1\" class=\"dataframe\">\n",
       "  <thead>\n",
       "    <tr style=\"text-align: right;\">\n",
       "      <th></th>\n",
       "      <th>Model</th>\n",
       "      <th>Accuracy</th>\n",
       "    </tr>\n",
       "  </thead>\n",
       "  <tbody>\n",
       "    <tr>\n",
       "      <th>0</th>\n",
       "      <td>LogisticRegression</td>\n",
       "      <td>0.884</td>\n",
       "    </tr>\n",
       "    <tr>\n",
       "      <th>1</th>\n",
       "      <td>DecisionTree</td>\n",
       "      <td>0.883</td>\n",
       "    </tr>\n",
       "    <tr>\n",
       "      <th>2</th>\n",
       "      <td>RandomForest</td>\n",
       "      <td>0.885</td>\n",
       "    </tr>\n",
       "  </tbody>\n",
       "</table>\n",
       "</div>"
      ],
      "text/plain": [
       "                Model  Accuracy\n",
       "0  LogisticRegression     0.884\n",
       "1        DecisionTree     0.883\n",
       "2        RandomForest     0.885"
      ]
     },
     "execution_count": 19,
     "metadata": {},
     "output_type": "execute_result"
    }
   ],
   "source": [
    "results_df"
   ]
  },
  {
   "cell_type": "markdown",
   "id": "8682c344-0a80-45d0-99ae-6f50a44f8646",
   "metadata": {},
   "source": [
    "## SELECTED MODEL : LOGISTIC REGRESSION\n",
    "\n",
    "Logistic Regression has highest accuracy with 0.884. Best parameters will be used in the model."
   ]
  },
  {
   "cell_type": "markdown",
   "id": "9b5dd2ee-52b7-45b8-b74d-5fbf2974f7d7",
   "metadata": {},
   "source": [
    "### Generate Logistic Regression Model with best parameters"
   ]
  },
  {
   "cell_type": "code",
   "execution_count": 20,
   "id": "2f169f0c-92f0-4c0e-8727-4a23c08eeb4e",
   "metadata": {
    "jp-MarkdownHeadingCollapsed": true
   },
   "outputs": [
    {
     "name": "stdout",
     "output_type": "stream",
     "text": [
      "Logistic Regression Accuracy: 0.884\n"
     ]
    }
   ],
   "source": [
    "X_train, X_test, y_train, y_test = train_test_split(X, y, test_size=0.2, random_state=1)\n",
    "\n",
    "# Define logistic regression pipeline with best parameters\n",
    "logreg = LogisticRegression(C=0.1, max_iter=100, solver='liblinear')\n",
    "# Train the model\n",
    "logreg.fit(X_train, y_train)\n",
    "\n",
    "# Predict on the test set\n",
    "y_pred = logreg.predict(X_test)\n",
    "y_proba = logreg.predict_proba(X_test)\n",
    "\n",
    "# Calculate accuracy\n",
    "accuracy = accuracy_score(y_test, y_pred)\n",
    "print(f'Logistic Regression Accuracy: {accuracy:.3f}')"
   ]
  },
  {
   "cell_type": "code",
   "execution_count": 21,
   "id": "85c294aa-601f-4d98-876b-4ff4c44b0c47",
   "metadata": {},
   "outputs": [],
   "source": [
    "# Create a DataFrame with the predicted classes and predicted probabilities\n",
    "results = pd.DataFrame({\n",
    "    'Predicted': y_pred,\n",
    "    'Finishing_out_of_podium': y_proba[:, 0],\n",
    "    'Finishing_on_podium': y_proba[:, 1]\n",
    "})\n",
    "\n",
    "# Reset index of the test set to match the results DataFrame\n",
    "X_test_reset = X_test.reset_index(drop=True)\n",
    "y_test_reset = y_test.reset_index(drop=True)\n",
    "\n",
    "# Concatenate the original test DataFrame, actual labels, and the results DataFrame\n",
    "final_results = pd.concat([X_test_reset, y_test_reset, results], axis=1)\n"
   ]
  },
  {
   "cell_type": "code",
   "execution_count": 22,
   "id": "f50cb273-9c0f-4ea7-8971-84bd5c3a6446",
   "metadata": {},
   "outputs": [],
   "source": [
    "final_results.to_excel(\"final_results.xlsx\")"
   ]
  },
  {
   "cell_type": "markdown",
   "id": "987ca2c9-7623-4c20-b7a7-62f2b4753a09",
   "metadata": {},
   "source": [
    "## RESULT - Key Findings and Insights"
   ]
  },
  {
   "cell_type": "markdown",
   "id": "130dc764-0148-4f77-b5ae-5956709a0734",
   "metadata": {},
   "source": [
    "### Confusion Matrix"
   ]
  },
  {
   "cell_type": "code",
   "execution_count": 23,
   "id": "24ac47c6-493f-4da0-b605-0c5edb7e2946",
   "metadata": {},
   "outputs": [
    {
     "data": {
      "image/png": "[encoded data removed]",
      "text/plain": [
       "<Figure size 640x480 with 2 Axes>"
      ]
     },
     "metadata": {},
     "output_type": "display_data"
    }
   ],
   "source": [
    "# Generate the confusion matrix\n",
    "cm = confusion_matrix(y_test, y_pred)\n",
    "# Visualize the confusion matrix\n",
    "disp = ConfusionMatrixDisplay(confusion_matrix=cm, display_labels=logreg.classes_)\n",
    "disp.plot(cmap=plt.cm.Blues)\n",
    "plt.show()"
   ]
  },
  {
   "cell_type": "markdown",
   "id": "7f384ad8-47f1-41a4-b27b-7661c24e1d1d",
   "metadata": {},
   "source": [
    "### As a result:\n",
    "\n",
    "* Logistic Regression is the best model for the job.\n",
    "* Accuracy of the model is 0.884\n",
    "* Even though accuracy is high, confusion matrix results are not very promising. 160 podiums is missed against 169 correct predicted result.\n",
    "* Next steps must be adding more features to provide more information that effecting podium finish\n",
    "* According to result of this notebook, top 5 circuits is shown below. These circuits have most chance to finish in podium when starting in top 3."
   ]
  },
  {
   "cell_type": "markdown",
   "id": "e2acd9b3-cb44-40a9-8b97-900a983fd4eb",
   "metadata": {},
   "source": [
    "| circuitId | grid | start | finish | Predicted | Out of Podium | Podium Chance |\n",
    "|-----------|------|-------|--------|-----------|---------------|---------------|\n",
    "| 73        | 1    | 1     | 1      | 1         | 0.396816788   | 0.603183212   |\n",
    "| 71        | 1    | 1     | 1      | 1         | 0.397187843   | 0.602812157   |\n",
    "| 70        | 1    | 1     | 1      | 1         | 0.397373416   | 0.602626584   |\n",
    "| 70        | 1    | 1     | 1      | 1         | 0.397373416   | 0.602626584   |\n",
    "| 70        | 1    | 1     | 1      | 1         | 0.397373416   | 0.602626584   |\n",
    "| 70        | 1    | 1     | 1      | 1         | 0.397373416   | 0.602626584   |\n",
    "| 70        | 1    | 1     | 1      | 1         | 0.397373416   | 0.602626584   |\n",
    "| 69        | 1    | 1     | 1      | 1         | 0.397559017   | 0.602440983   |\n",
    "| 69        | 1    | 1     | 1      | 1         | 0.397559017   | 0.602440983   |\n",
    "| 34        | 1    | 1     | 1      | 1         | 0.404073298   | 0.595926702   |\n",
    "| 34        | 1    | 1     | 1      | 1         | 0.404073298   | 0.595926702   |"
   ]
  },
  {
   "cell_type": "markdown",
   "id": "749321eb-ca7d-4644-ab96-8ac126e55dec",
   "metadata": {},
   "source": [
    "* **Name of the top 5 circuits:**\n",
    "\n",
    "1. Azerbaijan Grand Prix\n",
    "2. Russian Grand Prix  \n",
    "3. Austrian Grand Prix  \n",
    "4. United States Grand Prix  \n",
    "5. French Grand Prix "
   ]
  }
 ],
 "metadata": {
  "kernelspec": {
   "display_name": "Python 3 (ipykernel)",
   "language": "python",
   "name": "python3"
  },
  "language_info": {
   "codemirror_mode": {
    "name": "ipython",
    "version": 3
   },
   "file_extension": ".py",
   "mimetype": "text/x-python",
   "name": "python",
   "nbconvert_exporter": "python",
   "pygments_lexer": "ipython3",
   "version": "3.11.8"
  }
 },
 "nbformat": 4,
 "nbformat_minor": 5
}
